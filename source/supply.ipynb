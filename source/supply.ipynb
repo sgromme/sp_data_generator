{
 "cells": [
  {
   "cell_type": "code",
   "execution_count": null,
   "id": "42630e49",
   "metadata": {},
   "outputs": [],
   "source": [
    "import supply_planning_data_generator as sp \n"
   ]
  },
  {
   "cell_type": "code",
   "execution_count": null,
   "id": "f3ca15fc",
   "metadata": {},
   "outputs": [],
   "source": [
    "generator = sp.SupplyPlanningDataGenerator(seed=42)\n",
    "\n",
    "dataset = generator.generate_full_dataset()\n",
    "\n",
    "generator.export_to_excel(dataset)"
   ]
  },
  {
   "cell_type": "code",
   "execution_count": null,
   "id": "bf5ba5e6-b415-4afb-a52e-9b4b3ed374c4",
   "metadata": {},
   "outputs": [],
   "source": [
    "generator.visualize_demand_patterns(dataset['demand'])"
   ]
  }
 ],
 "metadata": {
  "kernelspec": {
   "display_name": ".venv (3.12.3)",
   "language": "python",
   "name": "python3"
  },
  "language_info": {
   "codemirror_mode": {
    "name": "ipython",
    "version": 3
   },
   "file_extension": ".py",
   "mimetype": "text/x-python",
   "name": "python",
   "nbconvert_exporter": "python",
   "pygments_lexer": "ipython3",
   "version": "3.12.3"
  }
 },
 "nbformat": 4,
 "nbformat_minor": 5
}
